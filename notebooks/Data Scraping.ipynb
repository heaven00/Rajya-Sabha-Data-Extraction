{
 "cells": [
  {
   "cell_type": "code",
   "execution_count": 26,
   "metadata": {},
   "outputs": [],
   "source": [
    "import requests\n",
    "import bs4 as bs\n",
    "import re\n",
    "from typing import Generator"
   ]
  },
  {
   "cell_type": "markdown",
   "metadata": {},
   "source": [
    "### Data Sources\n",
    "\n",
    "- Verbatim archives, i.e. debates by time and day http://164.100.47.5/newsite/debatenew/newshow.aspx?arch=245\n",
    "    - This includes the un edited debates noted down during the conduct by hours of the days\n",
    "    - We can get what organisations are being talked about and acts/bills\n",
    "    - People who are speaking\n",
    "    - when interuptions are happening\n",
    "    - The number of hours the rajya sabha worked\n",
    "- Date Wise Full day edited debates http://164.100.47.5/newsite/floor_official_debate/floor_official_debate.aspx\n",
    "    - Index of everything laid on the table with page indices\n",
    "    - More concise"
   ]
  },
  {
   "cell_type": "code",
   "execution_count": 2,
   "metadata": {},
   "outputs": [],
   "source": [
    "url = 'http://164.100.47.5/newsite/floor_official_debate/floor_official_debate.aspx'"
   ]
  },
  {
   "cell_type": "code",
   "execution_count": 3,
   "metadata": {},
   "outputs": [],
   "source": [
    "def get_soup(url):\n",
    "    get_resp = requests.get(url)\n",
    "    soup = bs.BeautifulSoup(get_resp.text)\n",
    "    return soup\n",
    "\n",
    "def extract_aspx_variables_from_soup(soup, var):\n",
    "    return soup.find('input', {'id':var}).attrs['value']"
   ]
  },
  {
   "cell_type": "code",
   "execution_count": 32,
   "metadata": {},
   "outputs": [],
   "source": [
    "def get_session_id_resp(session_id:int) -> requests.models.Response:\n",
    "    url = 'http://164.100.47.5/newsite/floor_official_debate/floor_official_debate.aspx'\n",
    "    get_resp_soup = get_soup(url)\n",
    "    data = {'ctl00$ContentPlaceHolder1$DropDownList1': session_id,\n",
    "           '__VIEWSTATE': extract_aspx_variables_from_soup(get_resp_soup, '__VIEWSTATE'),\n",
    "           '__VIEWSTATEGENERATOR': extract_aspx_variables_from_soup(get_resp_soup, '__VIEWSTATEGENERATOR'),\n",
    "           '__EVENTVALIDATION': extract_aspx_variables_from_soup(get_resp_soup, '__EVENTVALIDATION'),\n",
    "           '__EVENTTARGET': 'ctl00$ContentPlaceHolder1$DropDownList1'}\n",
    "    resp = requests.post(url, data=data)\n",
    "    return resp\n",
    "\n",
    "\n",
    "def get_pdf_links(resp: requests.models.Response) -> Generator[bs.element.Tag, None, None]:\n",
    "    soup = bs.BeautifulSoup(resp.text)\n",
    "    for link in soup.findAll('a', attrs={'href': re.compile(\"^http://.*pdf\")}):\n",
    "        if 'Debate' in link.get('href'):\n",
    "            yield link"
   ]
  },
  {
   "cell_type": "code",
   "execution_count": 63,
   "metadata": {},
   "outputs": [],
   "source": [
    "def filter_debate_pdf_links(pdf_links):\n",
    "    for link in pdf_links:\n",
    "        if 'Debate' in link.get('href'):\n",
    "            yield link"
   ]
  },
  {
   "cell_type": "code",
   "execution_count": 77,
   "metadata": {},
   "outputs": [],
   "source": [
    "def get_sessions():\n",
    "    url = 'http://164.100.47.5/newsite/floor_official_debate/floor_official_debate.aspx'\n",
    "    get_resp_soup = get_soup(url)\n",
    "    session_options = get_resp_soup.find(\n",
    "        'select',\n",
    "        {'id': 'ctl00_ContentPlaceHolder1_DropDownList1'}\n",
    "    ).findAll('option')\n",
    "    return (opt.text for opt in session_options if 'Select' not in opt.text)"
   ]
  },
  {
   "cell_type": "code",
   "execution_count": 78,
   "metadata": {},
   "outputs": [],
   "source": [
    "session_id = 246\n",
    "resp = get_session_id_resp(session_id)\n",
    "if resp.status_code != 200:\n",
    "    raise Exception(resp.text)\n",
    "pdf_links = filter_debate_pdf_links(get_pdf_links(resp))"
   ]
  },
  {
   "cell_type": "code",
   "execution_count": 79,
   "metadata": {},
   "outputs": [
    {
     "data": {
      "text/plain": [
       "<generator object filter_debate_pdf_links at 0x10e1cda50>"
      ]
     },
     "execution_count": 79,
     "metadata": {},
     "output_type": "execute_result"
    }
   ],
   "source": [
    "pdf_links"
   ]
  },
  {
   "cell_type": "code",
   "execution_count": 80,
   "metadata": {},
   "outputs": [
    {
     "name": "stdout",
     "output_type": "stream",
     "text": [
      "http://rajyasabha.nic.in/rsnew/question/mini_nodal_officers.pdf\n",
      "http://rajyasabha.nic.in/rsnew/member_site/newlob/party_position.pdf\n",
      "http://rajyasabha.nic.in/rsnew/members/entitlement_salary_mp.pdf\n",
      "http://rajyasabha.nic.in/rsnew/members/entitlement_salary_exmp.pdf\n",
      "http://rajyasabha.nic.in/rsnew/Parliament_of_India.pdf\n",
      "http://rajyasabha.nic.in/rsnew/two_house_parliament.pdf\n",
      "http://164.100.47.7/Pricelist/PriceList/E_Souvenir_Item.pdf\n",
      "http://164.100.47.5/Official_Debate_Nhindi/Floor/246/F10.08.2018.pdf\n",
      "http://164.100.47.5/Official_Debate_Nhindi/Floor/246/F09.08.2018.pdf\n",
      "http://164.100.47.5/Official_Debate_Nhindi/Floor/246/F08.08.2018.pdf\n",
      "http://164.100.47.5/Official_Debate_Nhindi/Floor/246/F07.08.2018.pdf\n",
      "http://164.100.47.5/Official_Debate_Nhindi/Floor/246/F06.08.2018.pdf\n",
      "http://164.100.47.5/Official_Debate_Nhindi/Floor/246/F03.08.2018.pdf\n",
      "http://164.100.47.5/Official_Debate_Nhindi/Floor/246/F02.08.2018.pdf\n",
      "http://164.100.47.5/Official_Debate_Nhindi/Floor/246/F01.08.2018.pdf\n",
      "http://164.100.47.5/Official_Debate_Nhindi/Floor/246/F31.07.2018.pdf\n",
      "http://164.100.47.5/Official_Debate_Nhindi/Floor/246/F30.07.2018.pdf\n",
      "http://164.100.47.5/Official_Debate_Nhindi/Floor/246/F26.07.2018.pdf\n",
      "http://164.100.47.5/Official_Debate_Nhindi/Floor/246/F25.07.2018.pdf\n",
      "http://164.100.47.5/Official_Debate_Nhindi/Floor/246/F24.07.2018.pdf\n",
      "http://164.100.47.5/Official_Debate_Nhindi/Floor/246/F23.07.2018.pdf\n",
      "http://164.100.47.5/Official_Debate_Nhindi/Floor/246/F20.07.2018.pdf\n",
      "http://164.100.47.5/Official_Debate_Nhindi/Floor/246/F19.07.2018.pdf\n",
      "http://164.100.47.5/Official_Debate_Nhindi/Floor/246/F18.07.2018.pdf\n"
     ]
    },
    {
     "data": {
      "text/plain": [
       "[<a href=\"http://164.100.47.5/Official_Debate_Nhindi/Floor/246/F10.08.2018.pdf\" id=\"ctl00_ContentPlaceHolder1_GridView4_ctl02_hp2\" target=\"_blank\"><img id=\"ctl00_ContentPlaceHolder1_GridView4_ctl02_img1\" src=\"images/download.png\" style=\"width :30px\"/>(1729 Kb)</a>,\n",
       " <a href=\"http://164.100.47.5/Official_Debate_Nhindi/Floor/246/F09.08.2018.pdf\" id=\"ctl00_ContentPlaceHolder1_GridView4_ctl03_hp2\" target=\"_blank\"><img id=\"ctl00_ContentPlaceHolder1_GridView4_ctl03_img1\" src=\"images/download.png\" style=\"width :30px\"/>(6164 Kb)</a>,\n",
       " <a href=\"http://164.100.47.5/Official_Debate_Nhindi/Floor/246/F08.08.2018.pdf\" id=\"ctl00_ContentPlaceHolder1_GridView4_ctl04_hp2\" target=\"_blank\"><img id=\"ctl00_ContentPlaceHolder1_GridView4_ctl04_img1\" src=\"images/download.png\" style=\"width :30px\"/>(738 Kb)</a>,\n",
       " <a href=\"http://164.100.47.5/Official_Debate_Nhindi/Floor/246/F07.08.2018.pdf\" id=\"ctl00_ContentPlaceHolder1_GridView4_ctl05_hp2\" target=\"_blank\"><img id=\"ctl00_ContentPlaceHolder1_GridView4_ctl05_img1\" src=\"images/download.png\" style=\"width :30px\"/>(1878 Kb)</a>,\n",
       " <a href=\"http://164.100.47.5/Official_Debate_Nhindi/Floor/246/F06.08.2018.pdf\" id=\"ctl00_ContentPlaceHolder1_GridView4_ctl06_hp2\" target=\"_blank\"><img id=\"ctl00_ContentPlaceHolder1_GridView4_ctl06_img1\" src=\"images/download.png\" style=\"width :30px\"/>(1829 Kb)</a>,\n",
       " <a href=\"http://164.100.47.5/Official_Debate_Nhindi/Floor/246/F03.08.2018.pdf\" id=\"ctl00_ContentPlaceHolder1_GridView4_ctl07_hp2\" target=\"_blank\"><img id=\"ctl00_ContentPlaceHolder1_GridView4_ctl07_img1\" src=\"images/download.png\" style=\"width :30px\"/>(1597 Kb)</a>,\n",
       " <a href=\"http://164.100.47.5/Official_Debate_Nhindi/Floor/246/F02.08.2018.pdf\" id=\"ctl00_ContentPlaceHolder1_GridView4_ctl08_hp2\" target=\"_blank\"><img id=\"ctl00_ContentPlaceHolder1_GridView4_ctl08_img1\" src=\"images/download.png\" style=\"width :30px\"/>(1480 Kb)</a>,\n",
       " <a href=\"http://164.100.47.5/Official_Debate_Nhindi/Floor/246/F01.08.2018.pdf\" id=\"ctl00_ContentPlaceHolder1_GridView4_ctl09_hp2\" target=\"_blank\"><img id=\"ctl00_ContentPlaceHolder1_GridView4_ctl09_img1\" src=\"images/download.png\" style=\"width :30px\"/>(2689 Kb)</a>,\n",
       " <a href=\"http://164.100.47.5/Official_Debate_Nhindi/Floor/246/F31.07.2018.pdf\" id=\"ctl00_ContentPlaceHolder1_GridView4_ctl10_hp2\" target=\"_blank\"><img id=\"ctl00_ContentPlaceHolder1_GridView4_ctl10_img1\" src=\"images/download.png\" style=\"width :30px\"/>(3928 Kb)</a>,\n",
       " <a href=\"http://164.100.47.5/Official_Debate_Nhindi/Floor/246/F30.07.2018.pdf\" id=\"ctl00_ContentPlaceHolder1_GridView4_ctl11_hp2\" target=\"_blank\"><img id=\"ctl00_ContentPlaceHolder1_GridView4_ctl11_img1\" src=\"images/download.png\" style=\"width :30px\"/>(2568 Kb)</a>,\n",
       " <a href=\"http://164.100.47.5/Official_Debate_Nhindi/Floor/246/F26.07.2018.pdf\" id=\"ctl00_ContentPlaceHolder1_GridView4_ctl12_hp2\" target=\"_blank\"><img id=\"ctl00_ContentPlaceHolder1_GridView4_ctl12_img1\" src=\"images/download.png\" style=\"width :30px\"/>(1944 Kb)</a>,\n",
       " <a href=\"http://164.100.47.5/Official_Debate_Nhindi/Floor/246/F25.07.2018.pdf\" id=\"ctl00_ContentPlaceHolder1_GridView4_ctl13_hp2\" target=\"_blank\"><img id=\"ctl00_ContentPlaceHolder1_GridView4_ctl13_img1\" src=\"images/download.png\" style=\"width :30px\"/>(2982 Kb)</a>,\n",
       " <a href=\"http://164.100.47.5/Official_Debate_Nhindi/Floor/246/F24.07.2018.pdf\" id=\"ctl00_ContentPlaceHolder1_GridView4_ctl14_hp2\" target=\"_blank\"><img id=\"ctl00_ContentPlaceHolder1_GridView4_ctl14_img1\" src=\"images/download.png\" style=\"width :30px\"/>(1491 Kb)</a>,\n",
       " <a href=\"http://164.100.47.5/Official_Debate_Nhindi/Floor/246/F23.07.2018.pdf\" id=\"ctl00_ContentPlaceHolder1_GridView4_ctl15_hp2\" target=\"_blank\"><img id=\"ctl00_ContentPlaceHolder1_GridView4_ctl15_img1\" src=\"images/download.png\" style=\"width :30px\"/>(2679 Kb)</a>,\n",
       " <a href=\"http://164.100.47.5/Official_Debate_Nhindi/Floor/246/F20.07.2018.pdf\" id=\"ctl00_ContentPlaceHolder1_GridView4_ctl16_hp2\" target=\"_blank\"><img id=\"ctl00_ContentPlaceHolder1_GridView4_ctl16_img1\" src=\"images/download.png\" style=\"width :30px\"/>(1106 Kb)</a>,\n",
       " <a href=\"http://164.100.47.5/Official_Debate_Nhindi/Floor/246/F19.07.2018.pdf\" id=\"ctl00_ContentPlaceHolder1_GridView4_ctl17_hp2\" target=\"_blank\"><img id=\"ctl00_ContentPlaceHolder1_GridView4_ctl17_img1\" src=\"images/download.png\" style=\"width :30px\"/>(1699 Kb)</a>,\n",
       " <a href=\"http://164.100.47.5/Official_Debate_Nhindi/Floor/246/F18.07.2018.pdf\" id=\"ctl00_ContentPlaceHolder1_GridView4_ctl18_hp2\" target=\"_blank\"><img id=\"ctl00_ContentPlaceHolder1_GridView4_ctl18_img1\" src=\"images/download.png\" style=\"width :30px\"/>(1391 Kb)</a>]"
      ]
     },
     "execution_count": 80,
     "metadata": {},
     "output_type": "execute_result"
    }
   ],
   "source": [
    "list(pdf_links)"
   ]
  },
  {
   "cell_type": "code",
   "execution_count": 94,
   "metadata": {},
   "outputs": [],
   "source": [
    "import os\n",
    "import pandas as pd\n",
    "from datetime import datetime"
   ]
  },
  {
   "cell_type": "code",
   "execution_count": 91,
   "metadata": {},
   "outputs": [],
   "source": [
    "base_dir = '../sessions'\n",
    "\n",
    "sessions = pd.DataFrame()\n",
    "for session_file in os.listdir(base_dir):\n",
    "    sessions = pd.concat([sessions, pd.read_csv(f'{base_dir}/{session_file}')])"
   ]
  },
  {
   "cell_type": "code",
   "execution_count": 99,
   "metadata": {},
   "outputs": [],
   "source": [
    "sessions['date'] = sessions.date.apply(lambda x: datetime.strptime(x.strip('F'), '%d.%m.%Y'))"
   ]
  },
  {
   "cell_type": "code",
   "execution_count": 100,
   "metadata": {},
   "outputs": [
    {
     "data": {
      "text/html": [
       "<div>\n",
       "<style scoped>\n",
       "    .dataframe tbody tr th:only-of-type {\n",
       "        vertical-align: middle;\n",
       "    }\n",
       "\n",
       "    .dataframe tbody tr th {\n",
       "        vertical-align: top;\n",
       "    }\n",
       "\n",
       "    .dataframe thead th {\n",
       "        text-align: right;\n",
       "    }\n",
       "</style>\n",
       "<table border=\"1\" class=\"dataframe\">\n",
       "  <thead>\n",
       "    <tr style=\"text-align: right;\">\n",
       "      <th></th>\n",
       "      <th>session_id</th>\n",
       "      <th>date</th>\n",
       "      <th>url</th>\n",
       "      <th>size</th>\n",
       "    </tr>\n",
       "  </thead>\n",
       "  <tbody>\n",
       "    <tr>\n",
       "      <th>0</th>\n",
       "      <td>116</td>\n",
       "      <td>1980-12-24 00:00:00</td>\n",
       "      <td>http://164.100.47.5/Official_Debate_Nhindi/Flo...</td>\n",
       "      <td>(5825 Kb)</td>\n",
       "    </tr>\n",
       "    <tr>\n",
       "      <th>1</th>\n",
       "      <td>116</td>\n",
       "      <td>1980-12-23 00:00:00</td>\n",
       "      <td>http://164.100.47.5/Official_Debate_Nhindi/Flo...</td>\n",
       "      <td>(3738 Kb)</td>\n",
       "    </tr>\n",
       "    <tr>\n",
       "      <th>2</th>\n",
       "      <td>116</td>\n",
       "      <td>1980-12-22 00:00:00</td>\n",
       "      <td>http://164.100.47.5/Official_Debate_Nhindi/Flo...</td>\n",
       "      <td>(10298 Kb)</td>\n",
       "    </tr>\n",
       "    <tr>\n",
       "      <th>3</th>\n",
       "      <td>116</td>\n",
       "      <td>1980-12-19 00:00:00</td>\n",
       "      <td>http://164.100.47.5/Official_Debate_Nhindi/Flo...</td>\n",
       "      <td>(6683 Kb)</td>\n",
       "    </tr>\n",
       "    <tr>\n",
       "      <th>4</th>\n",
       "      <td>116</td>\n",
       "      <td>1980-12-18 00:00:00</td>\n",
       "      <td>http://164.100.47.5/Official_Debate_Nhindi/Flo...</td>\n",
       "      <td>(6937 Kb)</td>\n",
       "    </tr>\n",
       "    <tr>\n",
       "      <th>...</th>\n",
       "      <td>...</td>\n",
       "      <td>...</td>\n",
       "      <td>...</td>\n",
       "      <td>...</td>\n",
       "    </tr>\n",
       "    <tr>\n",
       "      <th>9</th>\n",
       "      <td>133</td>\n",
       "      <td>1985-03-18 00:00:00</td>\n",
       "      <td>http://164.100.47.5/Official_Debate_Nhindi/Flo...</td>\n",
       "      <td>(4252 Kb)</td>\n",
       "    </tr>\n",
       "    <tr>\n",
       "      <th>10</th>\n",
       "      <td>133</td>\n",
       "      <td>1985-03-16 00:00:00</td>\n",
       "      <td>http://164.100.47.5/Official_Debate_Nhindi/Flo...</td>\n",
       "      <td>(12 Kb)</td>\n",
       "    </tr>\n",
       "    <tr>\n",
       "      <th>11</th>\n",
       "      <td>133</td>\n",
       "      <td>1985-03-15 00:00:00</td>\n",
       "      <td>http://164.100.47.5/Official_Debate_Nhindi/Flo...</td>\n",
       "      <td>(4698 Kb)</td>\n",
       "    </tr>\n",
       "    <tr>\n",
       "      <th>12</th>\n",
       "      <td>133</td>\n",
       "      <td>1985-03-14 00:00:00</td>\n",
       "      <td>http://164.100.47.5/Official_Debate_Nhindi/Flo...</td>\n",
       "      <td>(6722 Kb)</td>\n",
       "    </tr>\n",
       "    <tr>\n",
       "      <th>13</th>\n",
       "      <td>133</td>\n",
       "      <td>1985-03-13 00:00:00</td>\n",
       "      <td>http://164.100.47.5/Official_Debate_Nhindi/Flo...</td>\n",
       "      <td>(25 Kb)</td>\n",
       "    </tr>\n",
       "  </tbody>\n",
       "</table>\n",
       "<p>6034 rows × 4 columns</p>\n",
       "</div>"
      ],
      "text/plain": [
       "    session_id                 date  \\\n",
       "0          116  1980-12-24 00:00:00   \n",
       "1          116  1980-12-23 00:00:00   \n",
       "2          116  1980-12-22 00:00:00   \n",
       "3          116  1980-12-19 00:00:00   \n",
       "4          116  1980-12-18 00:00:00   \n",
       "..         ...                  ...   \n",
       "9          133  1985-03-18 00:00:00   \n",
       "10         133  1985-03-16 00:00:00   \n",
       "11         133  1985-03-15 00:00:00   \n",
       "12         133  1985-03-14 00:00:00   \n",
       "13         133  1985-03-13 00:00:00   \n",
       "\n",
       "                                                  url        size  \n",
       "0   http://164.100.47.5/Official_Debate_Nhindi/Flo...   (5825 Kb)  \n",
       "1   http://164.100.47.5/Official_Debate_Nhindi/Flo...   (3738 Kb)  \n",
       "2   http://164.100.47.5/Official_Debate_Nhindi/Flo...  (10298 Kb)  \n",
       "3   http://164.100.47.5/Official_Debate_Nhindi/Flo...   (6683 Kb)  \n",
       "4   http://164.100.47.5/Official_Debate_Nhindi/Flo...   (6937 Kb)  \n",
       "..                                                ...         ...  \n",
       "9   http://164.100.47.5/Official_Debate_Nhindi/Flo...   (4252 Kb)  \n",
       "10  http://164.100.47.5/Official_Debate_Nhindi/Flo...     (12 Kb)  \n",
       "11  http://164.100.47.5/Official_Debate_Nhindi/Flo...   (4698 Kb)  \n",
       "12  http://164.100.47.5/Official_Debate_Nhindi/Flo...   (6722 Kb)  \n",
       "13  http://164.100.47.5/Official_Debate_Nhindi/Flo...     (25 Kb)  \n",
       "\n",
       "[6034 rows x 4 columns]"
      ]
     },
     "execution_count": 100,
     "metadata": {},
     "output_type": "execute_result"
    }
   ],
   "source": [
    "sessions"
   ]
  },
  {
   "cell_type": "code",
   "execution_count": 101,
   "metadata": {},
   "outputs": [],
   "source": [
    "sessions.to_csv('sessions.csv')"
   ]
  },
  {
   "cell_type": "code",
   "execution_count": 1,
   "metadata": {},
   "outputs": [
    {
     "ename": "NameError",
     "evalue": "name 'sessions' is not defined",
     "output_type": "error",
     "traceback": [
      "\u001b[0;31m---------------------------------------------------------------------------\u001b[0m",
      "\u001b[0;31mNameError\u001b[0m                                 Traceback (most recent call last)",
      "\u001b[0;32m<ipython-input-1-6fc1ea85a90c>\u001b[0m in \u001b[0;36m<module>\u001b[0;34m\u001b[0m\n\u001b[0;32m----> 1\u001b[0;31m \u001b[0msessions\u001b[0m\u001b[0;34m.\u001b[0m\u001b[0murl\u001b[0m\u001b[0;34m.\u001b[0m\u001b[0miloc\u001b[0m\u001b[0;34m[\u001b[0m\u001b[0;34m-\u001b[0m\u001b[0;36m1\u001b[0m\u001b[0;34m]\u001b[0m\u001b[0;34m\u001b[0m\u001b[0;34m\u001b[0m\u001b[0m\n\u001b[0m",
      "\u001b[0;31mNameError\u001b[0m: name 'sessions' is not defined"
     ]
    }
   ],
   "source": [
    "sessions.url.iloc"
   ]
  },
  {
   "cell_type": "markdown",
   "metadata": {},
   "source": []
  }
 ],
 "metadata": {
  "kernelspec": {
   "display_name": "Python 3",
   "language": "python",
   "name": "python3"
  },
  "language_info": {
   "codemirror_mode": {
    "name": "ipython",
    "version": 3
   },
   "file_extension": ".py",
   "mimetype": "text/x-python",
   "name": "python",
   "nbconvert_exporter": "python",
   "pygments_lexer": "ipython3",
   "version": "3.8.1"
  },
  "toc": {
   "base_numbering": 1,
   "nav_menu": {},
   "number_sections": false,
   "sideBar": false,
   "skip_h1_title": false,
   "title_cell": "Table of Contents",
   "title_sidebar": "Contents",
   "toc_cell": false,
   "toc_position": {},
   "toc_section_display": false,
   "toc_window_display": false
  }
 },
 "nbformat": 4,
 "nbformat_minor": 2
}
