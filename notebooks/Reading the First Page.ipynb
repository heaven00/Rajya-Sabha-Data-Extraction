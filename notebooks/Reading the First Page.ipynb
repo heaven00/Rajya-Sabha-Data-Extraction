{
 "cells": [
  {
   "cell_type": "markdown",
   "metadata": {},
   "source": [
    "## Reading PDFs in Python\n",
    "\n",
    "PDFs are bad data structures to keep data in but that is whera a lot of the data is stored and shared. At the momebt we are dealing with Rajya Sabha proceedings.\n"
   ]
  },
  {
   "cell_type": "code",
   "execution_count": 25,
   "metadata": {},
   "outputs": [],
   "source": [
    "import os\n",
    "import requests\n",
    "import pandas as pd\n",
    "from dataclasses import dataclass\n",
    "from datetime import datetime\n",
    "from PyPDF2 import PdfFileReader\n",
    "from functools import singledispatch\n",
    "from typing import Optional, Union\n",
    "from urllib.parse import urlparse"
   ]
  },
  {
   "cell_type": "code",
   "execution_count": 2,
   "metadata": {},
   "outputs": [
    {
     "data": {
      "text/html": [
       "<div>\n",
       "<style scoped>\n",
       "    .dataframe tbody tr th:only-of-type {\n",
       "        vertical-align: middle;\n",
       "    }\n",
       "\n",
       "    .dataframe tbody tr th {\n",
       "        vertical-align: top;\n",
       "    }\n",
       "\n",
       "    .dataframe thead th {\n",
       "        text-align: right;\n",
       "    }\n",
       "</style>\n",
       "<table border=\"1\" class=\"dataframe\">\n",
       "  <thead>\n",
       "    <tr style=\"text-align: right;\">\n",
       "      <th></th>\n",
       "      <th>Unnamed: 0</th>\n",
       "      <th>session_id</th>\n",
       "      <th>date</th>\n",
       "      <th>url</th>\n",
       "      <th>size</th>\n",
       "    </tr>\n",
       "  </thead>\n",
       "  <tbody>\n",
       "    <tr>\n",
       "      <th>0</th>\n",
       "      <td>0</td>\n",
       "      <td>116</td>\n",
       "      <td>1980-12-24 00:00:00</td>\n",
       "      <td>http://164.100.47.5/Official_Debate_Nhindi/Flo...</td>\n",
       "      <td>(5825 Kb)</td>\n",
       "    </tr>\n",
       "    <tr>\n",
       "      <th>1</th>\n",
       "      <td>1</td>\n",
       "      <td>116</td>\n",
       "      <td>1980-12-23 00:00:00</td>\n",
       "      <td>http://164.100.47.5/Official_Debate_Nhindi/Flo...</td>\n",
       "      <td>(3738 Kb)</td>\n",
       "    </tr>\n",
       "    <tr>\n",
       "      <th>2</th>\n",
       "      <td>2</td>\n",
       "      <td>116</td>\n",
       "      <td>1980-12-22 00:00:00</td>\n",
       "      <td>http://164.100.47.5/Official_Debate_Nhindi/Flo...</td>\n",
       "      <td>(10298 Kb)</td>\n",
       "    </tr>\n",
       "    <tr>\n",
       "      <th>3</th>\n",
       "      <td>3</td>\n",
       "      <td>116</td>\n",
       "      <td>1980-12-19 00:00:00</td>\n",
       "      <td>http://164.100.47.5/Official_Debate_Nhindi/Flo...</td>\n",
       "      <td>(6683 Kb)</td>\n",
       "    </tr>\n",
       "    <tr>\n",
       "      <th>4</th>\n",
       "      <td>4</td>\n",
       "      <td>116</td>\n",
       "      <td>1980-12-18 00:00:00</td>\n",
       "      <td>http://164.100.47.5/Official_Debate_Nhindi/Flo...</td>\n",
       "      <td>(6937 Kb)</td>\n",
       "    </tr>\n",
       "  </tbody>\n",
       "</table>\n",
       "</div>"
      ],
      "text/plain": [
       "   Unnamed: 0  session_id                 date  \\\n",
       "0           0         116  1980-12-24 00:00:00   \n",
       "1           1         116  1980-12-23 00:00:00   \n",
       "2           2         116  1980-12-22 00:00:00   \n",
       "3           3         116  1980-12-19 00:00:00   \n",
       "4           4         116  1980-12-18 00:00:00   \n",
       "\n",
       "                                                 url        size  \n",
       "0  http://164.100.47.5/Official_Debate_Nhindi/Flo...   (5825 Kb)  \n",
       "1  http://164.100.47.5/Official_Debate_Nhindi/Flo...   (3738 Kb)  \n",
       "2  http://164.100.47.5/Official_Debate_Nhindi/Flo...  (10298 Kb)  \n",
       "3  http://164.100.47.5/Official_Debate_Nhindi/Flo...   (6683 Kb)  \n",
       "4  http://164.100.47.5/Official_Debate_Nhindi/Flo...   (6937 Kb)  "
      ]
     },
     "execution_count": 2,
     "metadata": {},
     "output_type": "execute_result"
    }
   ],
   "source": [
    "# Getting the PDF document\n",
    "\n",
    "sessions = pd.read_csv('../data/sessions.csv')\n",
    "sessions.head()"
   ]
  },
  {
   "cell_type": "code",
   "execution_count": 118,
   "metadata": {},
   "outputs": [],
   "source": [
    "sessions.date = sessions.date.apply(pd.to_datetime)"
   ]
  },
  {
   "cell_type": "code",
   "execution_count": 119,
   "metadata": {},
   "outputs": [],
   "source": [
    "sample_session = sessions.sort_values(by='date', ascending=False).iloc[0] \n",
    "pdf_link = sample_session['url']\n",
    "session = sample_session['session_id']\n",
    "session_date = sample_session['date']"
   ]
  },
  {
   "cell_type": "code",
   "execution_count": 109,
   "metadata": {},
   "outputs": [],
   "source": [
    "class NotPDFLinkError(Exception):\n",
    "    \n",
    "    def __str__(self):\n",
    "        return \"The Link Provided does not end with type `.pdf`\"\n",
    "    \n",
    "\n",
    "class NotAnURLError(Exception):\n",
    "    \n",
    "    def __str__(self):\n",
    "        return \"The link provided is not a valid URL\""
   ]
  },
  {
   "cell_type": "code",
   "execution_count": 110,
   "metadata": {},
   "outputs": [],
   "source": [
    "@dataclass(frozen=True)\n",
    "class ValidURL:\n",
    "    string: str\n",
    "\n",
    "\n",
    "@dataclass()\n",
    "class ValidPDFURL:\n",
    "    url: ValidURL\n",
    "\n",
    "\n",
    "def get_valid_pdf_url(url) -> [ValidPDFURL, Exception]:\n",
    "    return get_pdf_link(get_valid_url(url))\n",
    "\n",
    "\n",
    "@singledispatch\n",
    "def get_pdf_link(url) -> NotAnURLError:\n",
    "    raise NotAnURLError()\n",
    "\n",
    "@get_pdf_link.register\n",
    "def _(url: ValidURL) -> [ValidPDFURL, NotPDFLinkError]:\n",
    "    if not url.string.endswith('.pdf'):\n",
    "        raise NotPDFLinkError()\n",
    "    return ValidPDFURL(url)\n",
    "\n",
    "\n",
    "@singledispatch\n",
    "def get_valid_url(url) -> Exception:\n",
    "    raise Exception('Not A String')\n",
    "    \n",
    "\n",
    "@get_valid_url.register\n",
    "def _(url: str) -> [ValidURL, NotAnURLError]:\n",
    "    result = urlparse(url)\n",
    "    if not all([result.scheme, result.netloc, result.path]):\n",
    "        raise NotAnURLError()\n",
    "    return ValidURL(url)\n"
   ]
  },
  {
   "cell_type": "code",
   "execution_count": 131,
   "metadata": {},
   "outputs": [],
   "source": [
    "@dataclass(frozen=True)\n",
    "class SessionPDF:\n",
    "    url: ValidPDFURL\n",
    "    session: int\n",
    "    session_date: datetime\n",
    "    \n",
    "    @property\n",
    "    def filename(self):\n",
    "        return f'session_{session}_{session_date.strftime(\"%d_%m_%Y\")}.pdf'\n",
    "    \n",
    "    @property\n",
    "    def link(self):\n",
    "        return self.url.url.string\n",
    "\n",
    "\n",
    "def download_pdf(session_pdf: SessionPDF, output_dir: str) -> str:\n",
    "    if not os.path.isdir(output_dir): raise Exception('Output Directory is not a directory')\n",
    "    \n",
    "    data = requests.get(session_pdf.link).content\n",
    "    output_path = os.path.join(output_dir, session_pdf.filename)\n",
    "    with open(output_path, 'wb') as datafile:\n",
    "        datafile.write(data)\n",
    "    return output_path"
   ]
  },
  {
   "cell_type": "code",
   "execution_count": 137,
   "metadata": {},
   "outputs": [],
   "source": [
    "valid_pdf_url = get_pdf_link(is_url('http://164.100.47.5/Official_Debate_Nhindi/Floor/250/F13.12.2019.pdf'))\n",
    "session_pdf = SessionPDF(\n",
    "    url=valid_pdf_url,\n",
    "    session=session,\n",
    "    session_date=session_date\n",
    ")\n",
    "pdf_filepath = download_pdf(session_pdf, '../data/pdfs/')"
   ]
  },
  {
   "cell_type": "code",
   "execution_count": 65,
   "metadata": {},
   "outputs": [
    {
     "name": "stderr",
     "output_type": "stream",
     "text": [
      "PdfReadWarning: Xref table not zero-indexed. ID numbers for objects will be corrected. [pdf.py:1736]\n"
     ]
    }
   ],
   "source": [
    "data = PdfFileReader(pdf_filepath)"
   ]
  },
  {
   "cell_type": "code",
   "execution_count": 67,
   "metadata": {},
   "outputs": [
    {
     "data": {
      "text/plain": [
       "{'/Author': 'win7',\n",
       " '/CreationDate': \"D:20200317130702+05'30'\",\n",
       " '/Creator': 'Adobe Acrobat 8.0 Combine Files',\n",
       " '/ModDate': \"D:20200909154801+05'30'\",\n",
       " '/Producer': 'Acrobat Distiller 8.1.0 (Windows)',\n",
       " '/Title': '13 Dec.indd'}"
      ]
     },
     "execution_count": 67,
     "metadata": {},
     "output_type": "execute_result"
    }
   ],
   "source": [
    "data.documentInfo"
   ]
  },
  {
   "cell_type": "code",
   "execution_count": 68,
   "metadata": {},
   "outputs": [
    {
     "data": {
      "text/plain": [
       "436"
      ]
     },
     "execution_count": 68,
     "metadata": {},
     "output_type": "execute_result"
    }
   ],
   "source": [
    "data.getNumPages()"
   ]
  },
  {
   "cell_type": "code",
   "execution_count": 76,
   "metadata": {},
   "outputs": [
    {
     "name": "stdout",
     "output_type": "stream",
     "text": [
      "Vol. 250 \n",
      "FridayNo. 20 13 December, 2019\n",
      "                                                                  22 Agrahayana, 1941 (Saka) \n",
      "PARLIAMENTARY DEBATES\n",
      "RAJYA SABHA\n",
      "OFFICIAL REPORT\n",
      "(FLOOR VERSION)CONTENTSReference by the Chair (page 1)Papers laid on the Table (pages 1-41)\n",
      "\n",
      "Reports of the Department-related Parliamentary Standing Committee on  Defence Š \n",
      "Laid on the Table \n",
      "(pages 41-42)Report of the Committee on Welfare of Other Backward Classes Š \n",
      "Laid on the  Table \n",
      "(page 42)Statement of the Committee on the Welfare of Scheduled Castes and Scheduled \n",
      " Tribes Š \n",
      "Laid on the Table \n",
      " (page 42)Leave of absence (page 43)\n",
      "Statements by MinistersŠ\n",
      " Status of implementation of recommendations contained in the Forty-third Report\n",
      "  and the Fiftieth Report of the Department-related Parliamentary Standing \n",
      "\n",
      "  Committee on DefenceŠ\n",
      "Laid on the Table \n",
      "(page 43)©RAJYA SABHA SECRETARIAT\n",
      "NEW DELHI\n",
      "PRICE : ` 100.00Ö´Öê¾Ö ŁÖ[P.T.O.\n",
      "\n"
     ]
    }
   ],
   "source": [
    "print(data.getPage(0).extractText())"
   ]
  },
  {
   "cell_type": "code",
   "execution_count": 77,
   "metadata": {},
   "outputs": [
    {
     "name": "stdout",
     "output_type": "stream",
     "text": [
      "Website : http://rajyasabha.nic.in\n",
      "  http://parliamento\n",
      "Þ ndia.nic.in\n",
      "E-mail : rsedit-e@sansad.nic.in\n",
      " Status of implementation of observations/recommendations contained in the Fiftieth \n",
      "  Report and the Fifty-third Report of the Department-related Parliamentary \n",
      "\n",
      "  Standing Committee on Labour Š \n",
      "Laid on the Table \n",
      "(page 44) Status of implementation of recommendations contained in the Twenty-\n",
      "Þ fth Report \n",
      "  and the Thirty-sixth Report of the Department-related Parliamentary Standing \n",
      "\n",
      "  Committee on Rural DevelopmentŠ \n",
      "Laid on the Table \n",
      "(page 44) Status of implementation of recommendations/observations contained in the One \n",
      "  Hundred and Forty-ninth Report of the Department-related Parliamentary \n",
      "\n",
      "  Standing Committee on Commerce Š \n",
      "Laid on the Table \n",
      "(page 45)Matters raised with Permission Š\n",
      " Need for inclusion of the Union Territory of Ladakh in the Sixth Schedule to the \n",
      "  Constitution (pages 45-46)\n",
      " Wide spread unrest in the North-Eastern States after the passage of the Citizenship \n",
      "  (Amendment) Bill, 2019 (pages 47-54)\n",
      "Oral Answer to Questions (pages 54-92)\n",
      "\n",
      "Written Answers to Starred Questions (pages 93-115)\n",
      "\n",
      "Written Answers to Unstarred Questions (pages 116-428)\n",
      "\n",
      "Valedictory Remarks (pages 429-433)\n",
      "\n",
      "National Song (page 433)\n"
     ]
    }
   ],
   "source": [
    "print(data.getPage(1).extractText())"
   ]
  },
  {
   "cell_type": "code",
   "execution_count": 78,
   "metadata": {},
   "outputs": [
    {
     "name": "stdout",
     "output_type": "stream",
     "text": [
      "PUBLISHED UNDER RULE 260 OF RULES OF PROCEDURE AND CONDUCT OF BUSINESS IN THE COUNCIL OF STATES\n",
      " (RAJYA\n",
      " SABHA) AND PRINTED BY PRINTOGRAPH\n",
      ", KAROL BAGH, NEW DELHI-110005\n",
      "\n"
     ]
    }
   ],
   "source": [
    "print(data.getPage(2).extractText())"
   ]
  },
  {
   "cell_type": "code",
   "execution_count": 79,
   "metadata": {},
   "outputs": [
    {
     "name": "stdout",
     "output_type": "stream",
     "text": [
      "RAJYA SABHA\n",
      "Friday, the 13th December, 2019/22 Agrahayana, 1941 (Saka)\n",
      "The House met at eleven of the clock,MR. CHAIRMAN in the Chair.\n",
      "REFERENCE  BY  THE  CHAIREighteenth anniversary of terrorist attack on ParliamentMR. CHAIRMAN: Hon. Members, today, the 13th December, 2019, marks the\n",
      "Eighteenth Anniversary of the dastardly terror attack on the Parliament House.\n",
      "On this day, this House recalls the supreme sacrifice of our security personnel,\n",
      "including two of the Parliament Security Service staff, along with five Delhi Policepersonnel, and a woman constable of the Central Reserve Police Force. One gardenerof the CPWD and a cameraman of the ANI were also martyred. By their selfless act,\n",
      "\n",
      "these martyrs set an example of indomitable courage and outstanding devotion to duty.\n",
      "I am sure the whole House will join me in paying homage to these martyrs andexpressing our profound gratitude to our brave security personnel, who are vigilant anddutiful in protecting this temple of democracy. On this occasion, we also express our\n",
      "\n",
      "firm resolve to fight terrorism with determination.I request Members to rise in their places and observe silence as a mark of respectto the memory of those who lost their lives in that terror attack.(Hon. Members then stood in silence for one minute)PAPERS  LAID  ON  THE  TABLENotification of the Ministry of Law and JusticeTHE MINISTER OF LAW AND JUSTICE; THE MINISTER OF\n",
      "COMMUNICATIONS; \n",
      "AND THE MINISTER OF ELECTRONICS AND INFORMATION\n",
      "TECHNOLOGY (SHRI RAVI SHANKAR PRASAD): Sir, I lay on the Table, under sub-\n",
      "section (3) of Section 169 of the Representation of the People Act, 1951, a copy (in\n",
      "English and Hindi) of the Ministry of Law and Justice (Legislative Department),Notification No. S.O. 3786 (E), dated the 22nd October,  2019, publishing the Conduct\n",
      "of Elections (Amendment) Rules, 2019.[Placed in Library. \n",
      "See No. L.T. 1614/17/19]\n",
      "\n"
     ]
    }
   ],
   "source": [
    "print(data.getPage(3).extractText())"
   ]
  },
  {
   "cell_type": "markdown",
   "metadata": {},
   "source": [
    "### Task Complete!\n",
    "\n",
    "Luckily the PDF is text only and not images, though I am pretty sure as we run through many pdfs there might be a mix of pdf structure, we will get to that once we get there.\n",
    "\n",
    "The next step would be extracting information from these pages. The initial question that I want to figure out is:-\n",
    "1. What was talked about in the session?"
   ]
  },
  {
   "cell_type": "markdown",
   "metadata": {},
   "source": []
  },
  {
   "cell_type": "code",
   "execution_count": null,
   "metadata": {},
   "outputs": [],
   "source": [
    "@singledispatch\n",
    "def fun(arg, verbose=False):\n",
    "    if verbose:\n",
    "        print(\"Let me just say,\", end=\" \")\n",
    "    print(arg)\n",
    "\n",
    "@fun.register\n",
    "def _(arg: int, verbose=False):\n",
    "    if verbose:\n",
    "        print(\"Strength in numbers, eh?\", end=\" \")\n",
    "    print(arg)\n",
    "\n",
    "@fun.register\n",
    "def _(arg: list, verbose=False):\n",
    "    if verbose:\n",
    "        print(\"Enumerate this:\")\n",
    "    for i, elem in enumerate(arg):\n",
    "        print(i, elem)"
   ]
  }
 ],
 "metadata": {
  "kernelspec": {
   "display_name": "Python 3",
   "language": "python",
   "name": "python3"
  },
  "language_info": {
   "codemirror_mode": {
    "name": "ipython",
    "version": 3
   },
   "file_extension": ".py",
   "mimetype": "text/x-python",
   "name": "python",
   "nbconvert_exporter": "python",
   "pygments_lexer": "ipython3",
   "version": "3.8.1"
  }
 },
 "nbformat": 4,
 "nbformat_minor": 4
}
